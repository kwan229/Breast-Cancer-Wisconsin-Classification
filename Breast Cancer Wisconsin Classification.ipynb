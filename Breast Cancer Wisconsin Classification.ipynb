{
  "cells": [
    {
      "cell_type": "markdown",
      "metadata": {
        "id": "OCYU62LFW-NV"
      },
      "source": [
        "Breast Cancer Wisconsin Classification"
      ]
    },
    {
      "cell_type": "code",
      "execution_count": 2,
      "metadata": {
        "id": "HX51ooRWW-NY"
      },
      "outputs": [],
      "source": [
        "# Import all libraries\n",
        "from sklearn.model_selection import StratifiedKFold, GridSearchCV, train_test_split, cross_val_score\n",
        "from sklearn.ensemble import BaggingClassifier, AdaBoostClassifier, GradientBoostingClassifier, RandomForestClassifier\n",
        "from sklearn.impute import SimpleImputer\n",
        "from sklearn.preprocessing import MinMaxScaler\n",
        "from sklearn.neighbors import KNeighborsClassifier\n",
        "from sklearn.linear_model import LogisticRegression\n",
        "from sklearn.naive_bayes import GaussianNB\n",
        "from sklearn.tree import DecisionTreeClassifier\n",
        "from sklearn.svm import SVC\n",
        "import pandas as pd\n",
        "import numpy as np"
      ]
    },
    {
      "cell_type": "code",
      "execution_count": 3,
      "metadata": {
        "colab": {
          "base_uri": "https://localhost:8080/"
        },
        "id": "hPj6QMHeW-NY",
        "outputId": "bf4eca8f-526b-4f66-e6d9-cb1461b8960a"
      },
      "outputs": [
        {
          "name": "stdout",
          "output_type": "stream",
          "text": [
            "   Clump Thickness  Uniformity of Cell Size  Uniformity of Cell Shape  \\\n",
            "0                5                        1                         1   \n",
            "1                5                        4                         4   \n",
            "2                3                        1                         1   \n",
            "3                6                        8                         8   \n",
            "4                4                        1                         1   \n",
            "\n",
            "   Marginal Adhesion   Single Epithelial Cell Size  Bare Nuclei  \\\n",
            "0                  1                             2          1.0   \n",
            "1                  5                             7         10.0   \n",
            "2                  1                             2          2.0   \n",
            "3                  1                             3          4.0   \n",
            "4                  3                             2          1.0   \n",
            "\n",
            "   Bland Chromatin  Normal Nucleoli  Mitoses   class  \n",
            "0                3                1        1  class1  \n",
            "1                3                2        1  class1  \n",
            "2                3                1        1  class1  \n",
            "3                3                7        1  class1  \n",
            "4                3                1        1  class1  \n",
            "<class 'pandas.core.frame.DataFrame'>\n",
            "RangeIndex: 699 entries, 0 to 698\n",
            "Data columns (total 10 columns):\n",
            " #   Column                        Non-Null Count  Dtype  \n",
            "---  ------                        --------------  -----  \n",
            " 0   Clump Thickness               699 non-null    int64  \n",
            " 1   Uniformity of Cell Size       699 non-null    int64  \n",
            " 2   Uniformity of Cell Shape      699 non-null    int64  \n",
            " 3   Marginal Adhesion             699 non-null    int64  \n",
            " 4    Single Epithelial Cell Size  699 non-null    int64  \n",
            " 5   Bare Nuclei                   683 non-null    float64\n",
            " 6   Bland Chromatin               699 non-null    int64  \n",
            " 7   Normal Nucleoli               699 non-null    int64  \n",
            " 8   Mitoses                       699 non-null    int64  \n",
            " 9   class                         699 non-null    object \n",
            "dtypes: float64(1), int64(8), object(1)\n",
            "memory usage: 54.7+ KB\n",
            "None\n"
          ]
        }
      ],
      "source": [
        "# Load Breast Cancer Wisconsin Dataset\n",
        "# We have known that the '?' represents NA, so we replace all the '?' to NA\n",
        "df = pd.read_csv('breast-cancer-wisconsin.csv',na_values=[\"?\"])\n",
        "print(df.head())\n",
        "print(df.info())"
      ]
    },
    {
      "cell_type": "code",
      "execution_count": 4,
      "metadata": {
        "colab": {
          "base_uri": "https://localhost:8080/"
        },
        "id": "7zws1sc_W-NZ",
        "outputId": "36b09cd2-15af-43c6-c439-ae3d6c42392e"
      },
      "outputs": [
        {
          "name": "stdout",
          "output_type": "stream",
          "text": [
            "After replacing NA value, the total NA values in the dataframe are 0.\n",
            "\n",
            "   Clump Thickness  Uniformity of Cell Size  Uniformity of Cell Shape  \\\n",
            "0         0.444444                 0.000000                  0.000000   \n",
            "1         0.444444                 0.333333                  0.333333   \n",
            "2         0.222222                 0.000000                  0.000000   \n",
            "3         0.555556                 0.777778                  0.777778   \n",
            "4         0.333333                 0.000000                  0.000000   \n",
            "5         0.777778                 1.000000                  1.000000   \n",
            "6         0.000000                 0.000000                  0.000000   \n",
            "7         0.111111                 0.000000                  0.111111   \n",
            "8         0.111111                 0.000000                  0.000000   \n",
            "9         0.333333                 0.111111                  0.000000   \n",
            "\n",
            "   Marginal Adhesion   Single Epithelial Cell Size  Bare Nuclei  \\\n",
            "0           0.000000                      0.111111     0.000000   \n",
            "1           0.444444                      0.666667     1.000000   \n",
            "2           0.000000                      0.111111     0.111111   \n",
            "3           0.000000                      0.222222     0.333333   \n",
            "4           0.222222                      0.111111     0.000000   \n",
            "5           0.777778                      0.666667     1.000000   \n",
            "6           0.000000                      0.111111     1.000000   \n",
            "7           0.000000                      0.111111     0.000000   \n",
            "8           0.000000                      0.111111     0.000000   \n",
            "9           0.000000                      0.111111     0.000000   \n",
            "\n",
            "   Bland Chromatin  Normal Nucleoli   Mitoses  class  \n",
            "0         0.222222         0.000000  0.000000      0  \n",
            "1         0.222222         0.111111  0.000000      0  \n",
            "2         0.222222         0.000000  0.000000      0  \n",
            "3         0.222222         0.666667  0.000000      0  \n",
            "4         0.222222         0.000000  0.000000      0  \n",
            "5         0.888889         0.666667  0.000000      1  \n",
            "6         0.222222         0.000000  0.000000      0  \n",
            "7         0.222222         0.000000  0.000000      0  \n",
            "8         0.000000         0.000000  0.444444      0  \n",
            "9         0.111111         0.000000  0.000000      0  \n",
            "<class 'pandas.core.frame.DataFrame'>\n",
            "RangeIndex: 699 entries, 0 to 698\n",
            "Data columns (total 10 columns):\n",
            " #   Column                        Non-Null Count  Dtype  \n",
            "---  ------                        --------------  -----  \n",
            " 0   Clump Thickness               699 non-null    float64\n",
            " 1   Uniformity of Cell Size       699 non-null    float64\n",
            " 2   Uniformity of Cell Shape      699 non-null    float64\n",
            " 3   Marginal Adhesion             699 non-null    float64\n",
            " 4    Single Epithelial Cell Size  699 non-null    float64\n",
            " 5   Bare Nuclei                   699 non-null    float64\n",
            " 6   Bland Chromatin               699 non-null    float64\n",
            " 7   Normal Nucleoli               699 non-null    float64\n",
            " 8   Mitoses                       699 non-null    float64\n",
            " 9   class                         699 non-null    int64  \n",
            "dtypes: float64(9), int64(1)\n",
            "memory usage: 54.7 KB\n",
            "None\n"
          ]
        }
      ],
      "source": [
        "# Pre-process dataset\n",
        "# Replace missing attibute values with mean value of the column\n",
        "replace_na_mean = SimpleImputer(missing_values=np.nan, strategy='mean')\n",
        "replace_na_mean.fit(df.drop(['class'], axis = 1))\n",
        "df_replaced_na_array = replace_na_mean.transform(df.drop(['class'], axis = 1))\n",
        "\n",
        "# Normalization\n",
        "# Each attribute should be performed using a min-max scaler to normalise the values between [0,1]\n",
        "minmaxscaler = MinMaxScaler()\n",
        "minmaxscaler.fit(df_replaced_na_array)\n",
        "scaled_df = minmaxscaler.transform(df_replaced_na_array)\n",
        "# Create a new dataframe\n",
        "df_cleaned = pd.DataFrame(scaled_df)\n",
        "\n",
        "# Change the class values\n",
        "# The classes class1 and class2 should be changed to 0 and 1 respectively\n",
        "array_class = np.array(df['class'])\n",
        "new_class = []\n",
        "for i in array_class:\n",
        "  if i == 'class1':\n",
        "    new_class.append(0)\n",
        "  else:\n",
        "    new_class.append(1)\n",
        "df_cleaned['class'] = new_class # Add 0 and 1 back to cleaned dataset\n",
        "df_cleaned.columns=df.columns # Repalce the names of column\n",
        "print('After replacing NA value, the total NA values in the dataframe are ' + str(df_cleaned.isnull().sum().sum())+'.\\n')\n",
        "print(df_cleaned.head(10))\n",
        "print(df_cleaned.info())"
      ]
    },
    {
      "cell_type": "code",
      "execution_count": 5,
      "metadata": {
        "colab": {
          "base_uri": "https://localhost:8080/",
          "height": 424
        },
        "id": "1rHRaR3MW-NZ",
        "outputId": "d5a53420-cc91-48cf-ea4c-d9839e703b79"
      },
      "outputs": [
        {
          "data": {
            "text/html": [
              "<div>\n",
              "<style scoped>\n",
              "    .dataframe tbody tr th:only-of-type {\n",
              "        vertical-align: middle;\n",
              "    }\n",
              "\n",
              "    .dataframe tbody tr th {\n",
              "        vertical-align: top;\n",
              "    }\n",
              "\n",
              "    .dataframe thead th {\n",
              "        text-align: right;\n",
              "    }\n",
              "</style>\n",
              "<table border=\"1\" class=\"dataframe\">\n",
              "  <thead>\n",
              "    <tr style=\"text-align: right;\">\n",
              "      <th></th>\n",
              "      <th>Clump Thickness</th>\n",
              "      <th>Uniformity of Cell Size</th>\n",
              "      <th>Uniformity of Cell Shape</th>\n",
              "      <th>Marginal Adhesion</th>\n",
              "      <th>Single Epithelial Cell Size</th>\n",
              "      <th>Bare Nuclei</th>\n",
              "      <th>Bland Chromatin</th>\n",
              "      <th>Normal Nucleoli</th>\n",
              "      <th>Mitoses</th>\n",
              "      <th>class</th>\n",
              "    </tr>\n",
              "  </thead>\n",
              "  <tbody>\n",
              "    <tr>\n",
              "      <th>0</th>\n",
              "      <td>0.4444</td>\n",
              "      <td>0.0000</td>\n",
              "      <td>0.0000</td>\n",
              "      <td>0.0000</td>\n",
              "      <td>0.1111</td>\n",
              "      <td>0.0000</td>\n",
              "      <td>0.2222</td>\n",
              "      <td>0.0000</td>\n",
              "      <td>0.0000</td>\n",
              "      <td>0</td>\n",
              "    </tr>\n",
              "    <tr>\n",
              "      <th>1</th>\n",
              "      <td>0.4444</td>\n",
              "      <td>0.3333</td>\n",
              "      <td>0.3333</td>\n",
              "      <td>0.4444</td>\n",
              "      <td>0.6667</td>\n",
              "      <td>1.0000</td>\n",
              "      <td>0.2222</td>\n",
              "      <td>0.1111</td>\n",
              "      <td>0.0000</td>\n",
              "      <td>0</td>\n",
              "    </tr>\n",
              "    <tr>\n",
              "      <th>2</th>\n",
              "      <td>0.2222</td>\n",
              "      <td>0.0000</td>\n",
              "      <td>0.0000</td>\n",
              "      <td>0.0000</td>\n",
              "      <td>0.1111</td>\n",
              "      <td>0.1111</td>\n",
              "      <td>0.2222</td>\n",
              "      <td>0.0000</td>\n",
              "      <td>0.0000</td>\n",
              "      <td>0</td>\n",
              "    </tr>\n",
              "    <tr>\n",
              "      <th>3</th>\n",
              "      <td>0.5556</td>\n",
              "      <td>0.7778</td>\n",
              "      <td>0.7778</td>\n",
              "      <td>0.0000</td>\n",
              "      <td>0.2222</td>\n",
              "      <td>0.3333</td>\n",
              "      <td>0.2222</td>\n",
              "      <td>0.6667</td>\n",
              "      <td>0.0000</td>\n",
              "      <td>0</td>\n",
              "    </tr>\n",
              "    <tr>\n",
              "      <th>4</th>\n",
              "      <td>0.3333</td>\n",
              "      <td>0.0000</td>\n",
              "      <td>0.0000</td>\n",
              "      <td>0.2222</td>\n",
              "      <td>0.1111</td>\n",
              "      <td>0.0000</td>\n",
              "      <td>0.2222</td>\n",
              "      <td>0.0000</td>\n",
              "      <td>0.0000</td>\n",
              "      <td>0</td>\n",
              "    </tr>\n",
              "    <tr>\n",
              "      <th>5</th>\n",
              "      <td>0.7778</td>\n",
              "      <td>1.0000</td>\n",
              "      <td>1.0000</td>\n",
              "      <td>0.7778</td>\n",
              "      <td>0.6667</td>\n",
              "      <td>1.0000</td>\n",
              "      <td>0.8889</td>\n",
              "      <td>0.6667</td>\n",
              "      <td>0.0000</td>\n",
              "      <td>1</td>\n",
              "    </tr>\n",
              "    <tr>\n",
              "      <th>6</th>\n",
              "      <td>0.0000</td>\n",
              "      <td>0.0000</td>\n",
              "      <td>0.0000</td>\n",
              "      <td>0.0000</td>\n",
              "      <td>0.1111</td>\n",
              "      <td>1.0000</td>\n",
              "      <td>0.2222</td>\n",
              "      <td>0.0000</td>\n",
              "      <td>0.0000</td>\n",
              "      <td>0</td>\n",
              "    </tr>\n",
              "    <tr>\n",
              "      <th>7</th>\n",
              "      <td>0.1111</td>\n",
              "      <td>0.0000</td>\n",
              "      <td>0.1111</td>\n",
              "      <td>0.0000</td>\n",
              "      <td>0.1111</td>\n",
              "      <td>0.0000</td>\n",
              "      <td>0.2222</td>\n",
              "      <td>0.0000</td>\n",
              "      <td>0.0000</td>\n",
              "      <td>0</td>\n",
              "    </tr>\n",
              "    <tr>\n",
              "      <th>8</th>\n",
              "      <td>0.1111</td>\n",
              "      <td>0.0000</td>\n",
              "      <td>0.0000</td>\n",
              "      <td>0.0000</td>\n",
              "      <td>0.1111</td>\n",
              "      <td>0.0000</td>\n",
              "      <td>0.0000</td>\n",
              "      <td>0.0000</td>\n",
              "      <td>0.4444</td>\n",
              "      <td>0</td>\n",
              "    </tr>\n",
              "    <tr>\n",
              "      <th>9</th>\n",
              "      <td>0.3333</td>\n",
              "      <td>0.1111</td>\n",
              "      <td>0.0000</td>\n",
              "      <td>0.0000</td>\n",
              "      <td>0.1111</td>\n",
              "      <td>0.0000</td>\n",
              "      <td>0.1111</td>\n",
              "      <td>0.0000</td>\n",
              "      <td>0.0000</td>\n",
              "      <td>0</td>\n",
              "    </tr>\n",
              "  </tbody>\n",
              "</table>\n",
              "</div>"
            ],
            "text/plain": [
              "   Clump Thickness  Uniformity of Cell Size  Uniformity of Cell Shape  \\\n",
              "0           0.4444                   0.0000                    0.0000   \n",
              "1           0.4444                   0.3333                    0.3333   \n",
              "2           0.2222                   0.0000                    0.0000   \n",
              "3           0.5556                   0.7778                    0.7778   \n",
              "4           0.3333                   0.0000                    0.0000   \n",
              "5           0.7778                   1.0000                    1.0000   \n",
              "6           0.0000                   0.0000                    0.0000   \n",
              "7           0.1111                   0.0000                    0.1111   \n",
              "8           0.1111                   0.0000                    0.0000   \n",
              "9           0.3333                   0.1111                    0.0000   \n",
              "\n",
              "   Marginal Adhesion   Single Epithelial Cell Size  Bare Nuclei  \\\n",
              "0             0.0000                        0.1111       0.0000   \n",
              "1             0.4444                        0.6667       1.0000   \n",
              "2             0.0000                        0.1111       0.1111   \n",
              "3             0.0000                        0.2222       0.3333   \n",
              "4             0.2222                        0.1111       0.0000   \n",
              "5             0.7778                        0.6667       1.0000   \n",
              "6             0.0000                        0.1111       1.0000   \n",
              "7             0.0000                        0.1111       0.0000   \n",
              "8             0.0000                        0.1111       0.0000   \n",
              "9             0.0000                        0.1111       0.0000   \n",
              "\n",
              "   Bland Chromatin  Normal Nucleoli  Mitoses  class  \n",
              "0           0.2222           0.0000   0.0000      0  \n",
              "1           0.2222           0.1111   0.0000      0  \n",
              "2           0.2222           0.0000   0.0000      0  \n",
              "3           0.2222           0.6667   0.0000      0  \n",
              "4           0.2222           0.0000   0.0000      0  \n",
              "5           0.8889           0.6667   0.0000      1  \n",
              "6           0.2222           0.0000   0.0000      0  \n",
              "7           0.2222           0.0000   0.0000      0  \n",
              "8           0.0000           0.0000   0.4444      0  \n",
              "9           0.1111           0.0000   0.0000      0  "
            ]
          },
          "execution_count": 5,
          "metadata": {},
          "output_type": "execute_result"
        }
      ],
      "source": [
        "# Print first ten rows of pre-processed dataset to 4 decimal places\n",
        "pd.options.display.float_format = '{:.4f}'.format\n",
        "df_cleaned.head(10)"
      ]
    },
    {
      "cell_type": "code",
      "execution_count": 6,
      "metadata": {
        "colab": {
          "base_uri": "https://localhost:8080/"
        },
        "id": "4VLnUrTp7R6n",
        "outputId": "0ed437f1-d600-4de7-ef50-32c151c4d64a"
      },
      "outputs": [
        {
          "name": "stdout",
          "output_type": "stream",
          "text": [
            "0.4444,0.0000,0.0000,0.0000,0.1111,0.0000,0.2222,0.0000,0.0000,0\n",
            "0.4444,0.3333,0.3333,0.4444,0.6667,1.0000,0.2222,0.1111,0.0000,0\n",
            "0.2222,0.0000,0.0000,0.0000,0.1111,0.1111,0.2222,0.0000,0.0000,0\n",
            "0.5556,0.7778,0.7778,0.0000,0.2222,0.3333,0.2222,0.6667,0.0000,0\n",
            "0.3333,0.0000,0.0000,0.2222,0.1111,0.0000,0.2222,0.0000,0.0000,0\n",
            "0.7778,1.0000,1.0000,0.7778,0.6667,1.0000,0.8889,0.6667,0.0000,1\n",
            "0.0000,0.0000,0.0000,0.0000,0.1111,1.0000,0.2222,0.0000,0.0000,0\n",
            "0.1111,0.0000,0.1111,0.0000,0.1111,0.0000,0.2222,0.0000,0.0000,0\n",
            "0.1111,0.0000,0.0000,0.0000,0.1111,0.0000,0.0000,0.0000,0.4444,0\n",
            "0.3333,0.1111,0.0000,0.0000,0.1111,0.0000,0.1111,0.0000,0.0000,0\n"
          ]
        }
      ],
      "source": [
        "# Print the values of the first ten rows\n",
        "output = ''\n",
        "for rows in range(10):\n",
        "  for columns in range(0, df_cleaned.shape[1]):\n",
        "    if columns != df_cleaned.shape[1]-1:\n",
        "      output += '{:.4f}'.format(df_cleaned.iloc[rows, columns]) + ','\n",
        "    else:\n",
        "      output += str(int(df_cleaned.iloc[rows, columns]))\n",
        "  print(output)\n",
        "  output = ''"
      ]
    },
    {
      "cell_type": "code",
      "execution_count": 7,
      "metadata": {
        "id": "MASt4nRX_rlR"
      },
      "outputs": [],
      "source": [
        "# Divide data into labels and features, and infer X and y\n",
        "# Let X contains the attribute values and y contains the class\n",
        "X = df_cleaned.drop(['class'], axis = 1)\n",
        "y = df_cleaned['class']"
      ]
    },
    {
      "cell_type": "markdown",
      "metadata": {
        "id": "6FsIZ5lXW-NZ"
      },
      "source": [
        "### Part 1: Cross validation without parameter tuning"
      ]
    },
    {
      "cell_type": "code",
      "execution_count": 8,
      "metadata": {
        "id": "U4fvkrZSW-Na"
      },
      "outputs": [],
      "source": [
        "## Setting the 10 fold stratified cross-validation\n",
        "cvKFold=StratifiedKFold(n_splits=10, shuffle=True, random_state=0)\n",
        "\n",
        "# The stratified folds from cvKFold should be provided to the classifiers"
      ]
    },
    {
      "cell_type": "code",
      "execution_count": 9,
      "metadata": {
        "id": "vpV3JRpgW-Na"
      },
      "outputs": [],
      "source": [
        "# K-Nearest Neighbour\n",
        "def kNNClassifier(X, y, k):\n",
        "    knn = KNeighborsClassifier(n_neighbors=k)\n",
        "    scores = cross_val_score(knn, X, y, cv=cvKFold)\n",
        "    return scores.mean()"
      ]
    },
    {
      "cell_type": "code",
      "execution_count": 10,
      "metadata": {
        "id": "eUWuEUfMW-Na"
      },
      "outputs": [],
      "source": [
        "# Logistic Regression\n",
        "def logregClassifier(X, y):\n",
        "    logreg = LogisticRegression()\n",
        "    scores = cross_val_score(logreg, X, y, cv=cvKFold)\n",
        "    return scores.mean()"
      ]
    },
    {
      "cell_type": "code",
      "execution_count": 11,
      "metadata": {
        "id": "xVgU3PB-W-Nb"
      },
      "outputs": [],
      "source": [
        "# Naïve Bayes\n",
        "# We will create a NB for this data which is a numeric dataset, so we will use the GaussianNB class to create the classifier\n",
        "def nbClassifier(X, y):\n",
        "    nb = GaussianNB()\n",
        "    scores = cross_val_score(nb, X, y, cv=cvKFold)\n",
        "    return scores.mean()"
      ]
    },
    {
      "cell_type": "code",
      "execution_count": 12,
      "metadata": {
        "id": "qHGdI46qW-Nb"
      },
      "outputs": [],
      "source": [
        "# Decision Tree\n",
        "def dtClassifier(X, y):\n",
        "    tree = DecisionTreeClassifier(criterion = 'entropy')\n",
        "    scores = cross_val_score(tree, X, y, cv=cvKFold)\n",
        "    return scores.mean()"
      ]
    },
    {
      "cell_type": "code",
      "execution_count": 13,
      "metadata": {
        "id": "UuMb58dZW-Nc"
      },
      "outputs": [],
      "source": [
        "# Ensembles: Bagging, Ada Boost and Gradient Boosting\n",
        "def bagDTClassifier(X, y, n_estimators, max_samples, max_depth):\n",
        "    bag = BaggingClassifier(DecisionTreeClassifier(max_depth=max_depth,criterion = 'entropy'),n_estimators = n_estimators,max_samples = max_samples)\n",
        "    scores = cross_val_score(bag, X, y, cv=cvKFold)\n",
        "    return scores.mean()\n",
        "\n",
        "def adaDTClassifier(X, y, n_estimators, learning_rate, max_depth):\n",
        "    ada = AdaBoostClassifier(DecisionTreeClassifier(max_depth=max_depth,criterion = 'entropy'),n_estimators = n_estimators,learning_rate = learning_rate)\n",
        "    scores = cross_val_score(ada, X, y, cv=cvKFold)\n",
        "    return scores.mean()\n",
        "\n",
        "def gbClassifier(X, y, n_estimators, learning_rate):\n",
        "    gb = GradientBoostingClassifier(n_estimators = n_estimators,learning_rate = learning_rate)\n",
        "    scores = cross_val_score(gb, X, y, cv=cvKFold)\n",
        "    return scores.mean()"
      ]
    },
    {
      "cell_type": "markdown",
      "metadata": {
        "id": "sNSYHEVoW-Nc"
      },
      "source": [
        "### Part 1 Results"
      ]
    },
    {
      "cell_type": "code",
      "execution_count": 14,
      "metadata": {
        "colab": {
          "base_uri": "https://localhost:8080/"
        },
        "id": "Y-wxLiQJW-Nc",
        "outputId": "2056f828-5c1e-4280-82e4-5a402d331a01"
      },
      "outputs": [
        {
          "name": "stdout",
          "output_type": "stream",
          "text": [
            "kNN average cross-validation accuracy: 0.9642\n",
            "LR average cross-validation accuracy: 0.9642\n",
            "NB average cross-validation accuracy: 0.9585\n",
            "DT average cross-validation accuracy: 0.9385\n",
            "Bagging average cross-validation accuracy: 0.9585\n",
            "AdaBoost average cross-validation accuracy: 0.9571\n",
            "GB average cross-validation accuracy: 0.9642\n"
          ]
        }
      ],
      "source": [
        "# Parameters for Part 1:\n",
        "#KNN\n",
        "k=3\n",
        "\n",
        "#Bagging\n",
        "bag_n_estimators = 50\n",
        "bag_max_samples = 100\n",
        "bag_max_depth = 5\n",
        "\n",
        "#AdaBoost\n",
        "ada_n_estimators = 50\n",
        "ada_learning_rate = 0.5\n",
        "ada_bag_max_depth = 5\n",
        "\n",
        "#GB\n",
        "gb_n_estimators = 50\n",
        "gb_learning_rate = 0.5\n",
        "\n",
        "# Print results for each classifier in part 1 to 4 decimal places here:\n",
        "knn_score = kNNClassifier(X, y, k)\n",
        "logreg_score = logregClassifier(X, y)\n",
        "nb_score = nbClassifier(X, y)\n",
        "tree_score = dtClassifier(X, y)\n",
        "bagging_score = bagDTClassifier(X, y, bag_n_estimators, bag_max_samples, bag_max_depth)\n",
        "ada_score = adaDTClassifier(X, y, ada_n_estimators, ada_learning_rate, ada_bag_max_depth)\n",
        "gb_score = gbClassifier(X, y, gb_n_estimators, gb_learning_rate)\n",
        "print(\"kNN average cross-validation accuracy: {:.4f}\".format(knn_score))\n",
        "print(\"LR average cross-validation accuracy: {:.4f}\".format(logreg_score))\n",
        "print(\"NB average cross-validation accuracy: {:.4f}\".format(nb_score))\n",
        "print(\"DT average cross-validation accuracy: {:.4f}\".format(tree_score))\n",
        "print(\"Bagging average cross-validation accuracy: {:.4f}\".format(bagging_score))\n",
        "print(\"AdaBoost average cross-validation accuracy: {:.4f}\".format(ada_score))\n",
        "print(\"GB average cross-validation accuracy: {:.4f}\".format(gb_score))"
      ]
    },
    {
      "cell_type": "markdown",
      "metadata": {
        "id": "sF_ituCZW-Nd"
      },
      "source": [
        "### Part 2: Cross validation with parameter tuning"
      ]
    },
    {
      "cell_type": "code",
      "execution_count": 15,
      "metadata": {
        "id": "iPRjImrtW-Ne"
      },
      "outputs": [],
      "source": [
        "# Linear SVM\n",
        "# You should use SVC from sklearn.svm with kernel set to 'linear'\n",
        "C = {0.001, 0.01, 0.1, 1, 10, 100} \n",
        "gamma = {0.001, 0.01, 0.1, 1, 10, 100} \n",
        "def bestLinClassifier(X,y):\n",
        "    X_train, X_test, y_train, y_test = train_test_split(X, y, random_state=0)\n",
        "    pamarms = [{\n",
        "    'C':list(C),\n",
        "    'gamma':list(gamma)\n",
        "    }]\n",
        "    grid_search = GridSearchCV(SVC(kernel = 'linear'),pamarms,cv = cvKFold, return_train_score=True)\n",
        "    grid_search.fit(X_train, y_train)\n",
        "    test_set_score = grid_search.score(X_test, y_test)\n",
        "    cross_validation_score = grid_search.best_score_\n",
        "    best_C = grid_search.best_params_['C']\n",
        "    best_gamma = grid_search.best_params_['gamma']\n",
        "    return  test_set_score,cross_validation_score,best_C,best_gamma"
      ]
    },
    {
      "cell_type": "code",
      "execution_count": 16,
      "metadata": {
        "id": "1KYR8J38W-Ne"
      },
      "outputs": [],
      "source": [
        "# Random Forest\n",
        "# You should use RandomForestClassifier from sklearn.ensemble with information gain and max_features set to ‘sqrt’.\n",
        "n_estimators = {10, 20, 30, 50, 100}\n",
        "max_leaf_nodes = {4, 10, 16, 20, 30}\n",
        "def bestRFClassifier(X,y):\n",
        "    X_train, X_test, y_train, y_test = train_test_split(X, y, random_state=0)\n",
        "    pamarms = [{\n",
        "    'n_estimators':list(n_estimators),\n",
        "    'max_leaf_nodes':list(max_leaf_nodes)\n",
        "    }]\n",
        "    grid_search = GridSearchCV(RandomForestClassifier(criterion = 'entropy',max_features = 'sqrt'),pamarms,cv = cvKFold, return_train_score=True)\n",
        "    grid_search.fit(X_train, y_train)\n",
        "    test_set_score = grid_search.score(X_test, y_test)\n",
        "    cross_validation_score = grid_search.best_score_\n",
        "    best_n = grid_search.best_params_['n_estimators']\n",
        "    best_leaf_nodes = grid_search.best_params_['max_leaf_nodes']\n",
        "    return  test_set_score,cross_validation_score,best_n,best_leaf_nodes"
      ]
    },
    {
      "cell_type": "markdown",
      "metadata": {
        "id": "UtzBBRPVW-Nf"
      },
      "source": [
        "### Part 2 Results"
      ]
    },
    {
      "cell_type": "code",
      "execution_count": 17,
      "metadata": {
        "colab": {
          "base_uri": "https://localhost:8080/"
        },
        "id": "-IAc_Pj7W-Nf",
        "outputId": "bd488da3-f34d-4ce3-8c8a-ceeb283c0089"
      },
      "outputs": [
        {
          "name": "stdout",
          "output_type": "stream",
          "text": [
            "SVM best C:  10.0000\n",
            "SVM best gamma:  0.1000\n",
            "SVM cross-validation accuracy:  0.9714\n",
            "SVM test set accuracy:  0.9600\n",
            "\n",
            "RF best n_estimators:  100\n",
            "RF best max_leaf_nodes:  20\n",
            "RF cross-validation accuracy: 0.9734\n",
            "RF test set accuracy: 0.9657\n"
          ]
        }
      ],
      "source": [
        "# Perform Grid Search with 10-fold Stratified Cross Validation (GridSearchCV in sklearn). \n",
        "# The stratified folds from cvKFold should be provided to GridSearchV\n",
        "\n",
        "# This should include using train_test_split from sklearn.model_selection with stratification and random_state=0\n",
        "# Print results for each classifier here. All results should be printed to 4 decimal places except for\n",
        "# \"n_estimators\" and \"max_leaf_nodes\" which should be printed as integers.\n",
        "svm_test_set_score,svm_cross_validation_score,svm_best_C,svm_best_gamma = bestLinClassifier(X,y)\n",
        "print(\"SVM best C:  {:.4f}\".format(svm_best_C))\n",
        "print(\"SVM best gamma:  {:.4f}\".format(svm_best_gamma))\n",
        "print(\"SVM cross-validation accuracy:  {:.4f}\".format(svm_cross_validation_score))\n",
        "print(\"SVM test set accuracy:  {:.4f}\".format(svm_test_set_score))\n",
        "print('')\n",
        "RF_test_set_score,RF_cross_validation_score,RF_best_n,RF_best_leaf_nodes = bestRFClassifier(X,y)\n",
        "print(\"RF best n_estimators: \",RF_best_n)\n",
        "print(\"RF best max_leaf_nodes: \",RF_best_leaf_nodes)\n",
        "print(\"RF cross-validation accuracy: {:.4f}\".format(RF_cross_validation_score))\n",
        "print(\"RF test set accuracy: {:.4f}\".format(RF_test_set_score))"
      ]
    }
  ],
  "metadata": {
    "colab": {
      "collapsed_sections": [],
      "provenance": []
    },
    "kernelspec": {
      "display_name": "basic",
      "language": "python",
      "name": "python3"
    },
    "language_info": {
      "codemirror_mode": {
        "name": "ipython",
        "version": 3
      },
      "file_extension": ".py",
      "mimetype": "text/x-python",
      "name": "python",
      "nbconvert_exporter": "python",
      "pygments_lexer": "ipython3",
      "version": "3.9.21"
    }
  },
  "nbformat": 4,
  "nbformat_minor": 0
}
